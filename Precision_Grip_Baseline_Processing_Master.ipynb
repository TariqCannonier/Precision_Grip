{
 "cells": [
  {
   "cell_type": "markdown",
   "metadata": {},
   "source": [
    "# Precision Grip (Baseline) Data Processing Outline"
   ]
  },
  {
   "cell_type": "markdown",
   "metadata": {},
   "source": [
    "# Import modules and set user paths"
   ]
  },
  {
   "cell_type": "code",
   "execution_count": null,
   "metadata": {},
   "outputs": [],
   "source": [
    "## set plot output style\n",
    "\n",
    "%matplotlib qt \n",
    "\n",
    "## import modules\n",
    "\n",
    "import mne\n",
    "import numpy as np\n",
    "import re\n",
    "import os\n",
    "import os.path\n",
    "import autoreject\n",
    "from pathlib import Path\n",
    "from mne.report import Report\n",
    "from matplotlib import pyplot as plt\n",
    "from autoreject import get_rejection_threshold \n",
    "from autoreject import AutoReject\n",
    "from mne.preprocessing import compute_proj_ecg, compute_proj_eog, create_eog_epochs, create_ecg_epochs\n",
    "\n",
    "## set user_path variable as directory to DataAnalysis folder in Dropbox\n",
    "\n",
    "delim = os.path.sep\n",
    "\n",
    "# Find the user's Home directory and set up paths to DataAnalysis folder in Dropbox\n",
    "home_Path = str(Path.home())\n",
    "\n",
    "if re.search('dylan', home_Path, re.IGNORECASE):\n",
    "    user_path=\"/Users/dylandaniels/Dropbox (Brown)/99_shared/DataAnalysis\"\n",
    "elif re.search('tariq', home_Path, re.IGNORECASE):\n",
    "    user_path=\"/Users/tariqcannonier/Dropbox/DataAnalysis\"\n",
    "elif re.search('simona', home_Path, re.IGNORECASE):\n",
    "    user_path='C:\\\\Users\\\\Simona\\\\Dropbox (Brown)\\\\Dropbox_Work_VitalityProject\\\\DataAnalysis'\n",
    "\n",
    "    \n",
    "## option to test functions as you proceed through script cell by cell\n",
    "year='2017'\n",
    "session='pre'\n",
    "test_fxn=True\n",
    "print_diagnostic=False\n",
    "test_report=False"
   ]
  },
  {
   "cell_type": "code",
   "execution_count": null,
   "metadata": {},
   "outputs": [],
   "source": [
    "def set_directories_vitality (DataAnalysis_path, year, session, print_diagnostic = False ):\n",
    "    \n",
    "    ## define subdirectories in relation to DataAnalysis using OS path delimited 'delim'\n",
    "    \n",
    "    data_path=delim+year+' Vitality EEG Analysis'+delim+'Precision Grip'+delim+session+delim+'EEG_EMG'+delim \\\n",
    "    +'1_Grip_'+session+'_raw_set'+delim+'Grip_'+session+'_All'+delim\n",
    "    \n",
    "    output_path=delim+year+' Vitality EEG Analysis'+delim+'Precision Grip'+delim+session+delim+'EEG_EMG'+delim \\\n",
    "    + '2_Grip_PRE_MNE_processed' +delim\n",
    "    \n",
    "    report_path=delim+year+' Vitality EEG Analysis'+delim+'reports'+delim+session+delim\n",
    "    \n",
    "    montage_path=delim+year+' Vitality EEG Analysis'+delim+'MATLAB script'+delim+session+delim\n",
    "    \n",
    "    ## define directories from subdirectories\n",
    "    \n",
    "    data_directory = DataAnalysis_path + data_path\n",
    "    output_directory = DataAnalysis_path + output_path\n",
    "    montage_directory = DataAnalysis_path + montage_path\n",
    "    report_directory = DataAnalysis_path + report_path\n",
    "    \n",
    "    ## get filenames\n",
    "    \n",
    "    data_filenames = [f for f in os.listdir(data_directory) \\\n",
    "                         if f.endswith('.set')] # list .set files in data directory\n",
    "    \n",
    "    ## optionally print directories\n",
    "    \n",
    "    if print_diagnostic == True:\n",
    "        print('\\n###\\n### Printing data directory ... \\n###\\n\\n', data_directory, \"\\n\\n\", \\\n",
    "              '\\n###\\n### Printing output directory ... \\n###\\n\\n', output_directory, \"\\n\\n\", \\\n",
    "              '\\n###\\n### Printing report directory ... \\n###\\n\\n', report_directory, \"\\n\\n\", \\\n",
    "              '\\n###\\n### Printing data filenames ... \\n###\\n\\n', data_filenames, \"\\n\")\n",
    "        \n",
    "    return data_directory, output_directory, report_directory, data_filenames;\n",
    "\n",
    "#test_fxn=True\n",
    "\n",
    "if test_fxn==True: # test function\n",
    "    data_directory, output_directory, report_directory, \\\n",
    "    data_filenames = set_directories_vitality (user_path, year, session, print_diagnostic)"
   ]
  },
  {
   "cell_type": "code",
   "execution_count": null,
   "metadata": {},
   "outputs": [],
   "source": [
    "## define function to get participant_info dictionary from file_list\n",
    "\n",
    "def get_data_info( file_list, # file_list is a list of .set files to analyze \\\n",
    "                  data_dir, # filepath to data directory \\\n",
    "                  output_directory, #filepath to output directory \\\n",
    "                  print_diagnostic = False ): # value of True prints participant_info\n",
    "    \n",
    "    participants=[]\n",
    "    inpaths=[]\n",
    "    outpaths=[]\n",
    "    \n",
    "    for e in file_list:\n",
    "        \n",
    "        ## get participant number from filename\n",
    "        pnum = e.split(\"_\")[0] # grabs contents of filename before first underscore\n",
    "        participants+=[pnum] # saves string with participant number to list\n",
    "        \n",
    "        ## set input path \n",
    "        inpaths+=[data_dir+e] # set the input \n",
    "        \n",
    "        ## create new output name\n",
    "        outname = e.split(\"AllChannels.set\")[0]\n",
    "        outname+='mne_processed.set'\n",
    "        \n",
    "        ## set output path\n",
    "        outpaths+=[output_directory+outname]\n",
    "\n",
    "    ## create dictionary with participant info\n",
    "    \n",
    "    # participant_info = {'ID': (input_path, output_path), ...}\n",
    "    participant_info={}\n",
    "    index=0\n",
    "    for i in range(0,len(participants)):\n",
    "        participant_info[participants[i]] = inpaths[i],outpaths[i]\n",
    "        \n",
    "    ## optionally print dictionary with participant info\n",
    "    if print_diagnostic==True: # print participant_info\n",
    "        print('\\n###\\n### Printing \\'participant_info\\' dictionary ... \\n###\\n\\n----------\\n')\n",
    "        for key, value in participant_info.items(): \n",
    "            print('Participant:',key,'\\n\\nInpath:',value[0],'\\n\\nOutpath:',value[1],'\\n\\n----------\\n')\n",
    "\n",
    "    return participant_info; # return dictionary with participant info\n",
    "\n",
    "\n",
    "#test_fxn=True\n",
    "\n",
    "if test_fxn==True: # test function\n",
    "    participant_info = get_data_info( data_filenames, data_directory, output_directory, print_diagnostic)"
   ]
  },
  {
   "cell_type": "markdown",
   "metadata": {},
   "source": [
    "# Import and filter data; view data properties"
   ]
  },
  {
   "cell_type": "code",
   "execution_count": null,
   "metadata": {},
   "outputs": [],
   "source": [
    "##### define function as preprocess_mydata\n",
    "### also separate out emg channels\n",
    "\n",
    "## Define function to save and filter EEG channels\n",
    "\n",
    "def filter_mydata( input_path , highpass, lowpass):\n",
    "    \n",
    "    ## import raw data; preload into memory\n",
    "    raw_data = mne.io.read_raw_eeglab(input_path, preload=True)\n",
    "    \n",
    "    ## copy raw data\n",
    "    working_data = raw_data.copy() \n",
    "    \n",
    "    ## rename E\n",
    "    working_data.rename_channels({'E':'STI 014'}) \n",
    "    \n",
    "    ## set emg and stim chs\n",
    "    working_data.set_channel_types({'T7':'emg','T8':'emg',\\\n",
    "                                    'PO7':'emg','PO8':'emg','STI 014':'stim'}) \n",
    "\n",
    "    ## separate out eeg channels\n",
    "    eeg_only = working_data.copy().pick_types(eeg=True,emg=False)\n",
    "    \n",
    "    ## filter EEG channels\n",
    "    eeg_only.filter(highpass,lowpass,fir_design='firwin',verbose=False)\n",
    "    \n",
    "    ## separate out emg channels\n",
    "    # emg_only = working_data.copy().pick_types(eeg=False,emg=True)\n",
    "    \n",
    "    ## filter EMG channels\n",
    "    # emg_only.filter( 0.01 , 200. ,fir_design='firwin',verbose=False)\n",
    "    \n",
    "    return raw_data, working_data, eeg_only; # emg_only # return filtered data\n",
    "\n",
    "if test_fxn==True: # test function\n",
    "\n",
    "    high_pass = 0.01 # set high-pass filter\n",
    "    low_pass = 50. # set low-pass filter\n",
    "    participant_ID='2010' # set participant to analyze \n",
    "\n",
    "    raw_data, working_data,\\\n",
    "    eeg_filtered = filter_mydata( participant_info[participant_ID][0] , high_pass, low_pass )\n"
   ]
  },
  {
   "cell_type": "markdown",
   "metadata": {},
   "source": [
    "# Testing EMG"
   ]
  },
  {
   "cell_type": "code",
   "execution_count": null,
   "metadata": {},
   "outputs": [],
   "source": [
    "#emg_only = working_data.copy().pick_types(emg=True)\n",
    "#view_data_properties( [], emg_only)"
   ]
  },
  {
   "cell_type": "code",
   "execution_count": null,
   "metadata": {},
   "outputs": [],
   "source": [
    "#type(working_data)"
   ]
  },
  {
   "cell_type": "code",
   "execution_count": null,
   "metadata": {},
   "outputs": [],
   "source": [
    "#eeg_only = working_data.copy().pick_types(eeg=True,emg=False)"
   ]
  },
  {
   "cell_type": "code",
   "execution_count": null,
   "metadata": {},
   "outputs": [],
   "source": [
    "#emg_only= working_data.copy().pick_types(eeg=False,emg=True)"
   ]
  },
  {
   "cell_type": "code",
   "execution_count": null,
   "metadata": {},
   "outputs": [],
   "source": [
    "#eeg_only.plot()\n",
    "#emg_only.plot()"
   ]
  },
  {
   "cell_type": "code",
   "execution_count": null,
   "metadata": {},
   "outputs": [],
   "source": [
    "#eeg_only.filter(0.1,50.,fir_design='firwin',verbose=False)"
   ]
  },
  {
   "cell_type": "code",
   "execution_count": null,
   "metadata": {},
   "outputs": [],
   "source": [
    "#emg_only.filter(0.1,50.,fir_design='firwin',verbose=False)"
   ]
  },
  {
   "cell_type": "code",
   "execution_count": null,
   "metadata": {},
   "outputs": [],
   "source": []
  },
  {
   "cell_type": "markdown",
   "metadata": {},
   "source": [
    "# View data properties, plot channels"
   ]
  },
  {
   "cell_type": "raw",
   "metadata": {},
   "source": [
    "## define function to view data properties\n",
    "\n",
    "def view_data_properties ( list_properties, # list of properties in \".info\" to view \n",
    "                          data_file ):\n",
    "    \n",
    "    if type(list_properties) != list:\n",
    "        print('TypeError: the list_properties argument must be a list.\\\n",
    "              \\n\\nNote: an empty list \"[]\" will return the value of data_file.info().')\n",
    "    \n",
    "    ## print the specified properties\n",
    "    elif type(list_properties) == list and list_properties != []:\n",
    "        print(\"\\n-----\\n\")\n",
    "        for e in list_properties:\n",
    "            print(str(e),\":\",data_file.info[e],\"\\n\")\n",
    "        print(\"-----\\n\")\n",
    "        \n",
    "    ## if no properties are select, print the entirety of \".info\"\n",
    "    elif type(list_properties) == list and list_properties==[]:\n",
    "        print(data_file.info)\n",
    "\n",
    "    return\n",
    "\n",
    "if print_diagnostic==True: # test function\n",
    "    print_props=['ch_names','bads','highpass','lowpass','sfreq'] # set data properties to view\n",
    "    #print_props=[]\n",
    "    #view_data_properties ( print_props , raw_data )\n",
    "    view_data_properties ( print_props , working_data )\n",
    "    view_data_properties ( print_props , eeg_filtered )"
   ]
  },
  {
   "cell_type": "raw",
   "metadata": {},
   "source": [
    "## function to plot channels\n",
    "\n",
    "def plot_channels(plot_list):\n",
    "    \n",
    "    ## track which item from plot_list is being plotted\n",
    "    fig_text=\"Figure \" # to be referenced below\n",
    "    count=1\n",
    "    \n",
    "    ## loop through plotlist and plot channels\n",
    "    for e in plot_list:\n",
    "        \n",
    "        fig_label=fig_text+str(count) # set figure label from count\n",
    "        \n",
    "        print('\\n-----\\n\\nPloting',str(e),\"as \",fig_label,\"...\\n\") # print item info to output\n",
    "        \n",
    "        e.plot_psd(average=False,xscale='linear'); # generate plot; semicolon suppresses duplicate plots\n",
    "        \n",
    "        count+=1\n",
    "        \n",
    "    return\n",
    "\n",
    "# raw.set_eeg_reference('average', projection=True)  # set EEG average reference\n",
    "\n",
    "if print_diagnostic==True: # test function\n",
    "    plot_list=[eeg_filtered]\n",
    "\n",
    "    plot_channels([(working_data.copy().pick_types(eeg=True,emg=False)) , eeg_filtered ])\n",
    "    #plot_channels(plot_list)\n"
   ]
  },
  {
   "cell_type": "code",
   "execution_count": null,
   "metadata": {},
   "outputs": [],
   "source": []
  },
  {
   "cell_type": "markdown",
   "metadata": {},
   "source": [
    "# Epoching"
   ]
  },
  {
   "cell_type": "markdown",
   "metadata": {},
   "source": [
    "**Our data comes from EEGLAB and so we will need to use [events_from_annotations()](https://www.nmr.mgh.harvard.edu/mne/stable/generated/mne.events_from_annotations.html) command to get events from the data format EEGLAB exports**"
   ]
  },
  {
   "cell_type": "code",
   "execution_count": null,
   "metadata": {},
   "outputs": [],
   "source": [
    "## epoch data by block timestamps\n",
    "\n",
    "def epoch_data ( data_file, print_diagnostic = False ): #define function\n",
    "    \n",
    "    ## identify events\n",
    "    events, event_id = mne.events_from_annotations(data_file) # get events from data in EEGLAB format\n",
    "    for key in event_id.keys(): # iterate through event_id keys to provide meaningful annotations\n",
    "        if key == '100.0':\n",
    "            event_id['StartBlock'] = event_id.pop('100.0') # annotate 100 as startblock\n",
    "        if key == '200.0':\n",
    "            event_id['EndBlock'] = event_id.pop('200.0') # annotate 200 as endblock\n",
    "        \n",
    "    ## generate array of timestamps\n",
    "    timestamps=[] # create list to hold startblock and endblock times\n",
    "\n",
    "    for event_val in range(0,len(events)):\n",
    "        if events[event_val][2] == 1 and events[event_val+1][2] == 2:\n",
    "            block_timestamp = [events[event_val][0],events[event_val+1][0]]\n",
    "            timestamps += [block_timestamp]\n",
    "\n",
    "    timestamps=np.asarray(timestamps) # convert timestamps list into array\n",
    "    \n",
    "    ## optionally print and plot events\n",
    "    if print_diagnostic == True:\n",
    "        print('\\n###\\n### Printing event IDs ... \\n###\\n\\n',event_id,'\\n\\n')\n",
    "        print('\\n###\\n### Printing events ... \\n###\\n\\n',events,'\\n\\n')\n",
    "        print('\\n###\\n### Printing timestamps ... \\n###\\n\\n',timestamps,'\\n')\n",
    "        mne.viz.plot_events(events, sfreq=data_file.info['sfreq']);\n",
    "    \n",
    "    return timestamps, events;\n",
    "\n",
    "if test_fxn==True: # test function\n",
    "    epochs, events = epoch_data( eeg_filtered, print_diagnostic) # run epoching function\n",
    "    "
   ]
  },
  {
   "cell_type": "code",
   "execution_count": null,
   "metadata": {},
   "outputs": [],
   "source": []
  },
  {
   "cell_type": "markdown",
   "metadata": {},
   "source": [
    "# Crop data; process events and epochs"
   ]
  },
  {
   "cell_type": "code",
   "execution_count": null,
   "metadata": {},
   "outputs": [],
   "source": [
    "def crop_data (data_file, timestamps, print_diagnostic = False ):\n",
    "    blocks_data=[]\n",
    "    blocks_events=[]\n",
    "    blocks_epochs=[]\n",
    "    id_label=1\n",
    "    event_duration=2\n",
    "    for i in range(0,len(timestamps)):\n",
    "        tmin = timestamps[i][0]/data_file.info['sfreq']\n",
    "        tmax = timestamps[i][1]/data_file.info['sfreq']\n",
    "        #print(\"---\\n\",tmin,\"\\n\\n\",tmax,\"\\n\")\n",
    "        \n",
    "        \n",
    "        blocks_data.append(data_file.copy().crop \\\n",
    "                           (tmin=tmin,tmax=tmax)) # return a list of eeg lab arrays split into blocks by timestamps\n",
    "        \n",
    "        blocks_events.append(mne.make_fixed_length_events \\\n",
    "                             (blocks_data[i],id=id_label,duration=event_duration)) # for each block, return a list of arrays with event markers 0,1 every 2s\n",
    "\n",
    "        # need to rename this to be event marked_block or marked_data; blocks_epochs is not accurate\n",
    "        blocks_epochs.append(mne.Epochs \\\n",
    "                             (blocks_data[i],blocks_events[i], event_id=id_label, \\\n",
    "                              tmin=0,tmax=2, baseline=None, \\\n",
    "                              preload=True,verbose=False)) # add 2s [0,1] event markers to each block in array\n",
    "        \n",
    "    if print_diagnostic==True:\n",
    "        print('\\n###\\n### Printing all epochs for each block ... \\n###\\n\\n',blocks_events,\"\\n\\n-----\\n\") \n",
    "        \n",
    "    return blocks_data, blocks_events, blocks_epochs;\n",
    "\n",
    "if test_fxn==True: # test function\n",
    "    blocks_data, blocks_events, blocks_epochs = crop_data(eeg_filtered, epochs, print_diagnostic)\n"
   ]
  },
  {
   "cell_type": "code",
   "execution_count": null,
   "metadata": {},
   "outputs": [],
   "source": [
    "def generate_block_figs(blocks_data, blocks_events, blocks_epochs, n_epochs, duration, scalings):\n",
    "\n",
    "    plt.ioff() # turns off plots\n",
    "    \n",
    "    # define figures for report\n",
    "    plot_blocks = blocks_data.plot(events=blocks_events,duration=duration,show=False,scalings=scalings);\n",
    "    butterfly = blocks_epochs.average().plot(show=False,scalings=scalings);\n",
    "    topomap = blocks_epochs.average().plot_topomap(show=False,scalings=scalings);\n",
    "    topojoint = blocks_epochs.average().plot_joint(show=False);\n",
    "    \n",
    "    # save report figures to list\n",
    "    block_figs = [plot_blocks, butterfly, topomap, topojoint]\n",
    "    \n",
    "    # interactive epochs figures\n",
    "    # fig_epochs = blocks_epochs.plot(show=False,scalings=scalings,n_epochs=n_epochs);\n",
    "        \n",
    "    return block_figs;\n",
    "\n",
    "#test_fxn=True\n",
    "\n",
    "if test_fxn==True: # test function\n",
    "    n_epochs = 3 # Use for viewing subset of epochs.\n",
    "    duration = n_epochs*2 # Use for viewing subset of epochs. Otherwise set to 40\n",
    "    scalings = 1/25000 # Setting it to a constant to compare artifact in epoching\n",
    "    block_figs = generate_block_figs(blocks_data[0], blocks_events[0],\\\n",
    "                                           blocks_epochs[0], n_epochs, duration, scalings);\n"
   ]
  },
  {
   "cell_type": "code",
   "execution_count": null,
   "metadata": {},
   "outputs": [],
   "source": []
  },
  {
   "cell_type": "markdown",
   "metadata": {},
   "source": [
    "# Report"
   ]
  },
  {
   "cell_type": "code",
   "execution_count": null,
   "metadata": {},
   "outputs": [],
   "source": [
    "## define report\n",
    "\n",
    "def reporting(epochs, subject_ID, blocks_data, blocks_events, blocks_epochs,\\\n",
    "              working_data, eeg_filtered, events, report_directory):\n",
    "    \n",
    "    plt.ioff() # turns off plots\n",
    "            \n",
    "    rep = Report() # call Report object\n",
    "        \n",
    "    eeg_chs_raw = working_data.copy().pick_types(eeg=True,emg=False).plot_psd(average=False,xscale='linear');\n",
    "    eeg_chs_filtered = eeg_filtered.plot_psd(average=False,xscale='linear');\n",
    "    show_events = mne.viz.plot_events(events, sfreq=eeg_filtered.info['sfreq']);\n",
    "    \n",
    "    partic_figs=[eeg_chs_raw, eeg_chs_filtered, show_events]\n",
    "    \n",
    "    rep.add_figs_to_section(partic_figs, captions=[\"raw psd\",\"filtered psd\",\"events\"],\\\n",
    "                            section=\"Subject \"+subject_ID)\n",
    "    \n",
    "    for i in range(0,len(epochs)): # loop through blocks\n",
    "        \n",
    "        # make figures\n",
    "        block_figs = generate_block_figs(blocks_data[i], blocks_events[i],\\\n",
    "                                         blocks_epochs[i], n_epochs, duration, scalings);\n",
    "        \n",
    "        # define figure captions\n",
    "        captions = ['Block %d Data' % (i+1), \\\n",
    "                    'Block %d Butterfly' % (i+1), 'Block %d Topomap' % (i+1),'Block %d TopoJoint' % (i+1)]\n",
    "\n",
    "        # add list of figures to report\n",
    "        rep.add_figs_to_section(block_figs, captions=captions, section='Subject '+subject_ID+' Block %d' % (i+1))\n",
    "\n",
    "    # set report filename\n",
    "    filename=report_directory+subject_ID+'_'+session+'_report.html'\n",
    "    \n",
    "    # save report\n",
    "    rep.save(filename, overwrite=True, open_browser=False)\n",
    "    \n",
    "    return;\n",
    "\n",
    "#test_report=True\n",
    "    \n",
    "if test_report==True: # test function\n",
    "    participant_ID='2010'\n",
    "    reporting(epochs, participant_ID, blocks_data, blocks_events, blocks_epochs, working_data,\\\n",
    "              eeg_filtered, events, report_directory)\n"
   ]
  },
  {
   "cell_type": "code",
   "execution_count": null,
   "metadata": {},
   "outputs": [],
   "source": []
  },
  {
   "cell_type": "markdown",
   "metadata": {},
   "source": [
    "# Loop through multiple subjects"
   ]
  },
  {
   "cell_type": "code",
   "execution_count": null,
   "metadata": {},
   "outputs": [],
   "source": [
    "## code to loop through subjects and generate reports\n",
    "\n",
    "def run_reports( subject_list, high_pass, low_pass, n_epochs, duration, scalings ):\n",
    "    \n",
    "    plt.ioff() # turns off plots\n",
    "\n",
    "    data_directory, output_directory, report_directory, data_filenames = \\\n",
    "    set_directories_vitality (user_path, year, session, False)\n",
    "    \n",
    "    participant_info = get_data_info( data_filenames, data_directory, output_directory, False )\n",
    "    \n",
    "    for e in subject_list: # loop through subjects, set input path\n",
    "        \n",
    "        subject_ID=e\n",
    "        \n",
    "        if e in participant_info.keys():\n",
    "\n",
    "            raw_data, working_data, eeg_filtered = filter_mydata( participant_info[e][0] , high_pass, low_pass )\n",
    "\n",
    "            epochs, events = epoch_data( eeg_filtered, False)\n",
    "\n",
    "            blocks_data, blocks_events, blocks_epochs = crop_data(eeg_filtered, epochs, False)\n",
    "\n",
    "            reporting(epochs, subject_ID, blocks_data, blocks_events, blocks_epochs,\\\n",
    "                     working_data, eeg_filtered, events, report_directory);"
   ]
  },
  {
   "cell_type": "code",
   "execution_count": null,
   "metadata": {},
   "outputs": [],
   "source": []
  },
  {
   "cell_type": "markdown",
   "metadata": {},
   "source": [
    "# Workflow for looping through subjects"
   ]
  },
  {
   "cell_type": "code",
   "execution_count": null,
   "metadata": {},
   "outputs": [],
   "source": [
    "## define list of subject(s) to analyze\n",
    "#subject_list=['2004']\n",
    "subject_list=['2037', '2004', '2025', '2012', '2016', '2021', '2029', '2017',\\\n",
    "              '2020', '2024', '2013', '2028', '2046', '2042', '2032', '2001',\\\n",
    "              '2036', '2009', '2019', '2026', '2011', '2015', '2022', '2038',\\\n",
    "              '2003', '2034', '2030', '2007', '2039', '2031', '2002', '2045',\\\n",
    "              '2041', '2018', '2014', '2023', '2010']\n",
    "\n",
    "## set analysis properties\n",
    "high_pass = 0.01 \n",
    "low_pass = 50.\n",
    "\n",
    "## set report properties\n",
    "n_epochs = 20\n",
    "duration = n_epochs*2\n",
    "scalings = 1/25000\n",
    "\n",
    "## set group\n",
    "year='2017'\n",
    "session='pre'\n",
    "\n",
    "## run workflow on subject_list\n",
    "#run_reports( subject_list, high_pass, low_pass, n_epochs, duration, scalings );\n",
    "run_reports( subject_list, high_pass, low_pass, n_epochs, duration, scalings );\n",
    "\n"
   ]
  }
 ],
 "metadata": {
  "kernelspec": {
   "display_name": "Python 3",
   "language": "python",
   "name": "python3"
  },
  "language_info": {
   "codemirror_mode": {
    "name": "ipython",
    "version": 3
   },
   "file_extension": ".py",
   "mimetype": "text/x-python",
   "name": "python",
   "nbconvert_exporter": "python",
   "pygments_lexer": "ipython3",
   "version": "3.7.5"
  }
 },
 "nbformat": 4,
 "nbformat_minor": 2
}
