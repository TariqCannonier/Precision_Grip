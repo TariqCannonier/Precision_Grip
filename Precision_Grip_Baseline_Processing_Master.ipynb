{
 "cells": [
  {
   "cell_type": "markdown",
   "metadata": {},
   "source": [
    "# Precision Grip (Baseline) Data Processing Outline"
   ]
  },
  {
   "cell_type": "markdown",
   "metadata": {},
   "source": [
    "# Import modules and set user paths"
   ]
  },
  {
   "cell_type": "code",
   "execution_count": 1,
   "metadata": {},
   "outputs": [],
   "source": [
    "## set plot output style\n",
    "\n",
    "%matplotlib qt \n",
    "\n",
    "## import modules\n",
    "\n",
    "import mne\n",
    "import numpy as np\n",
    "import re\n",
    "import os\n",
    "import os.path\n",
    "from pathlib import Path\n",
    "from mne.report import Report\n",
    "from matplotlib import pyplot as plt\n",
    "from mne.preprocessing import compute_proj_ecg, compute_proj_eog, create_eog_epochs, create_ecg_epochs\n",
    "\n",
    "## set user_path variable as directory to DataAnalysis folder in Dropbox\n",
    "\n",
    "delim = os.path.sep\n",
    "\n",
    "# Find the user's Home directory and set up paths to DataAnalysis folder in Dropbox\n",
    "home_Path = str(Path.home())\n",
    "\n",
    "if re.search('dylan', home_Path, re.IGNORECASE):\n",
    "    user_path=\"/Users/dylandaniels/Dropbox (Brown)/99_shared/DataAnalysis\"\n",
    "elif re.search('tariq', home_Path, re.IGNORECASE):\n",
    "    user_path=\"/Users/tariqcannonier/Dropbox/DataAnalysis\"\n",
    "elif re.search('simona', home_Path, re.IGNORECASE):\n",
    "    user_path='C:\\\\Users\\\\Simona\\\\Dropbox (Brown)\\\\Dropbox_Work_VitalityProject\\\\DataAnalysis'\n",
    "\n",
    "    \n",
    "## option to test functions as you proceed through script cell by cell\n",
    "year='2016'\n",
    "session='pre'\n",
    "test_fxn=False\n",
    "print_diagnostic=False\n",
    "test_report=False"
   ]
  },
  {
   "cell_type": "code",
   "execution_count": 2,
   "metadata": {},
   "outputs": [],
   "source": [
    "def set_directories_vitality (DataAnalysis_path, year, session, print_diagnostic = False ):\n",
    "    \n",
    "    ## define subdirectories in relation to DataAnalysis using OS path delimited 'delim'\n",
    "    \n",
    "    data_path=delim+year+' Vitality EEG Analysis'+delim+'Precision Grip'+delim+session+delim+'EEG_EMG'+delim \\\n",
    "    +'1_Grip_'+session+'_raw_set'+delim+'Grip_'+session+'_All'+delim\n",
    "    \n",
    "    output_path=delim+year+' Vitality EEG Analysis'+delim+'Precision Grip'+delim+session+delim+'EEG_EMG'+delim \\\n",
    "    + '2_Grip_PRE_MNE_processed' +delim\n",
    "    \n",
    "    report_path=delim+year+' Vitality EEG Analysis'+delim+'reports'+delim+session+delim\n",
    "    \n",
    "    montage_path=delim+year+' Vitality EEG Analysis'+delim+'MATLAB script'+delim+session+delim\n",
    "    \n",
    "    ## define directories from subdirectories\n",
    "    \n",
    "    data_directory = DataAnalysis_path + data_path\n",
    "    output_directory = DataAnalysis_path + output_path\n",
    "    montage_directory = DataAnalysis_path + montage_path\n",
    "    report_directory = DataAnalysis_path + report_path\n",
    "    \n",
    "    ## Create directories if they do not exist\n",
    "    for path in [output_directory, report_directory]:\n",
    "        if os.path.isdir(path)==False:\n",
    "            os.makedirs(path)\n",
    "    \n",
    "    ## get filenames\n",
    "    \n",
    "    data_filenames = [f for f in os.listdir(data_directory) \\\n",
    "                         if f.endswith('.set')] # list .set files in data directory\n",
    "    \n",
    "    ## optionally print directories\n",
    "    \n",
    "    if print_diagnostic == True:\n",
    "        print('\\n###\\n### Printing data directory ... \\n###\\n\\n', data_directory, \"\\n\\n\", \\\n",
    "              '\\n###\\n### Printing output directory ... \\n###\\n\\n', output_directory, \"\\n\\n\", \\\n",
    "              '\\n###\\n### Printing report directory ... \\n###\\n\\n', report_directory, \"\\n\\n\", \\\n",
    "              '\\n###\\n### Printing data filenames ... \\n###\\n\\n', data_filenames, \"\\n\")\n",
    "        \n",
    "    return data_directory, output_directory, report_directory, data_filenames;\n",
    "\n",
    "if test_fxn==True: # test function\n",
    "    data_directory, output_directory, report_directory, \\\n",
    "    data_filenames = set_directories_vitality (user_path, year, session, print_diagnostic)"
   ]
  },
  {
   "cell_type": "code",
   "execution_count": 3,
   "metadata": {},
   "outputs": [],
   "source": [
    "## define function to get participant_info dictionary from file_list\n",
    "\n",
    "def get_data_info( file_list, # file_list is a list of .set files to analyze \\\n",
    "                  data_dir, # filepath to data directory \\\n",
    "                  output_directory, #filepath to output directory \\\n",
    "                  print_diagnostic = False ): # value of True prints participant_info\n",
    "    \n",
    "    participants=[]\n",
    "    inpaths=[]\n",
    "    outpaths=[]\n",
    "    \n",
    "    for e in file_list:\n",
    "        \n",
    "        ## get participant number from filename\n",
    "        pnum = e.split(\"_\")[0] # grabs contents of filename before first underscore\n",
    "        participants+=[pnum] # saves string with participant number to list\n",
    "        \n",
    "        ## set input path \n",
    "        inpaths+=[data_dir+e] # set the input \n",
    "        \n",
    "        ## create new output name\n",
    "        outname = e.split(\"AllChannels.set\")[0]\n",
    "        outname+='mne_processed.set'\n",
    "        \n",
    "        ## set output path\n",
    "        outpaths+=[output_directory+outname]\n",
    "\n",
    "    ## create dictionary with participant info\n",
    "    \n",
    "    # participant_info = {'ID': (input_path, output_path), ...}\n",
    "    participant_info={}\n",
    "    index=0\n",
    "    for i in range(0,len(participants)):\n",
    "        participant_info[participants[i]] = inpaths[i],outpaths[i]\n",
    "        \n",
    "    ## optionally print dictionary with participant info\n",
    "    if print_diagnostic==True: # print participant_info\n",
    "        print('\\n###\\n### Printing \\'participant_info\\' dictionary ... \\n###\\n\\n----------\\n')\n",
    "        for key, value in participant_info.items(): \n",
    "            print('Participant:',key,'\\n\\nInpath:',value[0],'\\n\\nOutpath:',value[1],'\\n\\n----------\\n')\n",
    "\n",
    "    return participant_info; # return dictionary with participant info\n",
    "\n",
    "if test_fxn==True: # test function\n",
    "    participant_info = get_data_info( data_filenames, data_directory, output_directory, print_diagnostic)"
   ]
  },
  {
   "cell_type": "markdown",
   "metadata": {},
   "source": [
    "# Import and filter data; view data properties"
   ]
  },
  {
   "cell_type": "code",
   "execution_count": 4,
   "metadata": {
    "scrolled": true
   },
   "outputs": [],
   "source": [
    "##### define function as preprocess_mydata\n",
    "### also separate out emg channels\n",
    "\n",
    "## Define function to save and filter EEG channels\n",
    "\n",
    "def filter_mydata( input_path , filter_params):\n",
    "        \n",
    "    ## import raw data; preload into memory\n",
    "    raw_data = mne.io.read_raw_eeglab(input_path, preload=True)\n",
    "        \n",
    "    ## copy raw data\n",
    "    working_data = raw_data.copy() \n",
    "\n",
    "    ## rename E\n",
    "    working_data.rename_channels({'E':'STI 014'}) \n",
    "    working_data.set_channel_types({'STI 014':'stim'}) \n",
    "    \n",
    "    ## Separate out eeg and emg channels\n",
    "    emg_only = working_data.copy().pick_channels(['T7', 'T8', 'PO7', 'PO8'])\n",
    "    eeg_only = working_data.copy().pick_channels(['Fp1', 'Fp2', 'F3', 'Fz', 'F4', \\\n",
    "                                                  'C3', 'Cz', 'C4', 'P3', 'Pz', \\\n",
    "                                                  'P4', 'Oz'])   \n",
    "    \n",
    "    ## set EMG bipolar reference\n",
    "    mne.set_bipolar_reference(emg_only,['T7' , 'T8'], ['PO7' , 'PO8'], \\\n",
    "                              ch_name=['T7-PO7' , 'T8-PO8'],drop_refs=False,copy=False)\n",
    "    \n",
    "    ## set EEG bipolar reference\n",
    "    mne.set_bipolar_reference(eeg_only,['C3' , 'C4'], ['Cz' , 'Cz'], \\\n",
    "                             ch_name=['C3-Cz' , 'C4-Cz'],drop_refs=False,copy=False)\n",
    "\n",
    "    ## filter EEG channels\n",
    "    eeg_only.filter(filter_params['eeg']['highpass'],filter_params['eeg']['lowpass'], \\\n",
    "                    fir_design='firwin',verbose=False)\n",
    "    \n",
    "    ## highpass EMG channels\n",
    "    emg_only.filter(filter_params['emg']['highpass'],None,fir_design='firwin',verbose=False)\n",
    "\n",
    "    ## rectify EMG data\n",
    "    emg_only.apply_function(np.absolute)\n",
    "    emg_rectified = emg_only.copy()\n",
    "\n",
    "    ## low pass rectified EMG data\n",
    "    emg_only.filter(None,filter_params['emg']['lowpass'],fir_design='firwin',verbose=False)\n",
    "    \n",
    "    ## plot \"envelope\"??\n",
    "\n",
    "    \n",
    "    ## package EEG and EMG data in dictionary\n",
    "    filtered_data = {'eeg':eeg_only,'emg':emg_only,'emg_hp_rectified':emg_rectified}\n",
    "\n",
    "    return raw_data, working_data, filtered_data; # emg_only # return filtered data\n",
    "\n",
    "if test_fxn==True: # test function\n",
    "\n",
    "    highpass_eeg = 0.01 # set high-pass filter\n",
    "    lowpass_eeg = 50. # set low-pass filter\n",
    "    highpass_emg = None\n",
    "    lowpass_emg = 100.\n",
    "    filter_params = {'eeg':{'highpass':highpass_eeg, 'lowpass':lowpass_eeg}, \\\n",
    "                     'emg':{'highpass':highpass_emg,'lowpass':lowpass_emg}}\n",
    "    \n",
    "    participant_ID='30' # set participant to analyze \n",
    "\n",
    "    raw_data, working_data,\\\n",
    "    filtered_data = filter_mydata( participant_info[participant_ID][0] , filter_params )\n"
   ]
  },
  {
   "cell_type": "markdown",
   "metadata": {},
   "source": [
    "# View data properties, plot channels"
   ]
  },
  {
   "cell_type": "code",
   "execution_count": 5,
   "metadata": {},
   "outputs": [],
   "source": [
    "## define function to view data properties\n",
    "\n",
    "def view_data_properties ( list_properties, # list of properties in \".info\" to view \n",
    "                          data_file ):\n",
    "    \n",
    "    if type(list_properties) != list:\n",
    "        print('TypeError: the list_properties argument must be a list.\\\n",
    "              \\n\\nNote: an empty list \"[]\" will return the value of data_file.info().')\n",
    "    \n",
    "    ## print the specified properties\n",
    "    elif type(list_properties) == list and list_properties != []:\n",
    "        print(\"\\n-----\\n\")\n",
    "        for e in list_properties:\n",
    "            print(str(e),\":\",data_file.info[e],\"\\n\")\n",
    "        print(\"-----\\n\")\n",
    "        \n",
    "    ## if no properties are select, print the entirety of \".info\"\n",
    "    elif type(list_properties) == list and list_properties==[]:\n",
    "        print(data_file.info)\n",
    "\n",
    "    return\n",
    "\n",
    "if print_diagnostic==True: # test function\n",
    "    print_props=['ch_names','bads','highpass','lowpass','sfreq'] # set data properties to view\n",
    "    #print_props=[]\n",
    "\n",
    "    view_data_properties ( print_props , working_data )\n",
    "    view_data_properties ( print_props , filtered_data['eeg'] )\n",
    "    view_data_properties ( print_props , filtered_data['emg'])"
   ]
  },
  {
   "cell_type": "code",
   "execution_count": 6,
   "metadata": {},
   "outputs": [],
   "source": [
    "## function to plot channels\n",
    "\n",
    "def plot_channels(plot_list):\n",
    "    \n",
    "    ## track which item from plot_list is being plotted\n",
    "    fig_text=\"Figure \" # to be referenced below\n",
    "    count=1\n",
    "    \n",
    "    ## loop through plotlist and plot channels\n",
    "    for e in plot_list:\n",
    "        \n",
    "        # plot elements of list, mindful of dictionaries\n",
    "        if type(e) == type(dict()):\n",
    "            \n",
    "            for key in e.keys():\n",
    "                fig_label=fig_text+str(count) # set figure label from count\n",
    "\n",
    "                print('\\n-----\\n\\nPloting',str(e[key]),\"as \",fig_label,\"...\\n\") # print item info to output\n",
    "\n",
    "                # Put a title on psd plots\n",
    "                fig = e[key].plot_psd(average=False,xscale='linear');\n",
    "                ax = fig.get_axes()\n",
    "                ax[0].set_title('%s Channels' % key.upper())\n",
    "                count+=1\n",
    "                \n",
    "        else:\n",
    "            fig_label=fig_text+str(count) # set figure label from count\n",
    "\n",
    "            print('\\n-----\\n\\nPloting',str(e),\"as \",fig_label,\"...\\n\") # print item info to output\n",
    "            \n",
    "            # Put a title on psd plots\n",
    "            fig = e.plot_psd(average=False,xscale='linear'); # generate plot; semicolon suppresses duplicate plots\n",
    "            ax = fig.get_axes()\n",
    "            ax[0].set_title('ALL Channels')\n",
    "            count+=1\n",
    "        \n",
    "    return\n",
    "\n",
    "# raw.set_eeg_reference('average', projection=True)  # set EEG average reference\n",
    "if print_diagnostic==True: # test function\n",
    "\n",
    "#     plot_list=[filtered_data['eeg'],filtered_data['emg']]\n",
    "\n",
    "    plot_channels([(working_data.copy().pick_types(eeg=True,emg=False)) , \n",
    "                   filtered_data ])\n",
    "    #plot_channels(plot_list)\n"
   ]
  },
  {
   "cell_type": "markdown",
   "metadata": {},
   "source": [
    "# Epoching"
   ]
  },
  {
   "cell_type": "markdown",
   "metadata": {},
   "source": [
    "**Our data comes from EEGLAB and so we will need to use [events_from_annotations()](https://www.nmr.mgh.harvard.edu/mne/stable/generated/mne.events_from_annotations.html) command to get events from the data format EEGLAB exports**"
   ]
  },
  {
   "cell_type": "code",
   "execution_count": 7,
   "metadata": {
    "scrolled": false
   },
   "outputs": [],
   "source": [
    "## epoch data by block timestamps\n",
    "\n",
    "def epoch_data ( data_file, print_diagnostic = False ): #define function\n",
    "    \n",
    "    ## identify events\n",
    "    events, event_id = mne.events_from_annotations(data_file) # get events from data in EEGLAB format\n",
    "    for key in event_id.keys(): # iterate through event_id keys to provide meaningful annotations\n",
    "        if key == '100.0':\n",
    "            event_id['StartBlock'] = event_id.pop('100.0') # annotate 100 as startblock\n",
    "        if key == '200.0':\n",
    "            event_id['EndBlock'] = event_id.pop('200.0') # annotate 200 as endblock\n",
    "        \n",
    "    ## generate array of timestamps\n",
    "    timestamps=[] # create list to hold startblock and endblock times\n",
    "\n",
    "    # Compare events to get timestamps.  Only look at consecutive StartBlocks and EndBlocks\n",
    "    prev_event = np.array([0,0,0])\n",
    "    for event in events:\n",
    "        if event[2] == 2 and prev_event[2] == 1:\n",
    "            block_timestamp = [prev_event[0],event[0]]\n",
    "            timestamps += [block_timestamp]\n",
    "        prev_event=event\n",
    "        \n",
    "    timestamps=np.asarray(timestamps) # convert timestamps list into array\n",
    "    \n",
    "    ## optionally print and plot events\n",
    "    if print_diagnostic == True:\n",
    "        print('\\n###\\n### Printing event IDs ... \\n###\\n\\n',event_id,'\\n\\n')\n",
    "        print('\\n###\\n### Printing events ... \\n###\\n\\n',events,'\\n\\n')\n",
    "        print('\\n###\\n### Printing timestamps ... \\n###\\n\\n',timestamps,'\\n')\n",
    "        events_fig = mne.viz.plot_events(events, sfreq=data_file.info['sfreq'],event_id=event_id);\n",
    "        \n",
    "        # Title in figure\n",
    "        ax = events_fig.get_axes()\n",
    "        ax[0].set_title('Events in Continuous Data')\n",
    "        ax[0].legend(loc='upper right')\n",
    "        \n",
    "    return timestamps, events, event_id;\n",
    "\n",
    "if test_fxn==True: # test function\n",
    "    # leaving out EMG processing until we know how we want to crop emg data\n",
    "    epochs, events, event_id = epoch_data( filtered_data['eeg'] , print_diagnostic) # run epoching function\n"
   ]
  },
  {
   "cell_type": "markdown",
   "metadata": {},
   "source": [
    "# Crop data; process events and epochs"
   ]
  },
  {
   "cell_type": "code",
   "execution_count": 8,
   "metadata": {},
   "outputs": [],
   "source": [
    "def crop_data (data_file, timestamps, print_diagnostic = False ):\n",
    "    \n",
    "    id_label=1\n",
    "    event_duration=2\n",
    "    \n",
    "    # Instantiate dict for epoched data\n",
    "    filtered_blocks = {\n",
    "        'eeg':{'blocks':[],'events':[],'epochs':[]},\\\n",
    "        'emg':{'blocks':[],'events':[],'epochs':[]},\\\n",
    "        'emg_hp_rectified':{'blocks':[],'events':[],'epochs':[]}\n",
    "    }\n",
    "\n",
    "    # Iterate through timestamps and derive times to crop data\n",
    "    for time in timestamps:\n",
    "        tmin = time[0]/data_file['eeg'].info['sfreq']\n",
    "        tmax = time[1]/data_file['eeg'].info['sfreq']\n",
    "#         print(\"---\\n\",tmin,\"\\n\\n\",tmax,\"\\n\")\n",
    "\n",
    "        # If diff between tmax & tmin is < event_duration, will get an error\n",
    "        if (tmax-tmin) > event_duration:\n",
    "            \n",
    "            # Iterate through crop and epoch EEG and EMG data\n",
    "            for key in data_file.keys():\n",
    "                filtered_blocks[key]['blocks'].append(data_file[key].copy().crop \\\n",
    "                                   (tmin=tmin,tmax=tmax)) # return a list of eeg lab arrays split into blocks by timestamps\n",
    "                filtered_blocks[key]['events'].append(mne.make_fixed_length_events \\\n",
    "                                     (filtered_blocks[key]['blocks'][-1],id=id_label,duration=event_duration)) # for each block, return a list of arrays with event markers 0,1 every 2s\n",
    "\n",
    "                # need to rename this to be event marked_block or marked_data; blocks_epochs is not accurate\n",
    "                filtered_blocks[key]['epochs'].append(mne.Epochs \\\n",
    "                                     (filtered_blocks[key]['blocks'][-1],filtered_blocks[key]['events'][-1], event_id=id_label, \\\n",
    "                                      tmin=0,tmax=2, baseline=None, \\\n",
    "                                      preload=True,verbose=False)) # add 2s [0,1] event markers to each block in array\n",
    "\n",
    "    if print_diagnostic==True:\n",
    "        print('\\n###\\n### Printing all epochs for each block ... \\n###\\n\\n',filtered_blocks['emg']['events'],\"\\n\\n-----\\n\") \n",
    "\n",
    "    return filtered_blocks;\n",
    "\n",
    "if test_fxn==True: # test function\n",
    "    # leaving out EMG processing until we know how we want to crop emg data\n",
    "    filtered_blocks = crop_data(filtered_data , epochs, print_diagnostic)\n"
   ]
  },
  {
   "cell_type": "code",
   "execution_count": 9,
   "metadata": {},
   "outputs": [],
   "source": [
    "def plot_linear_envelope(filtered_data, epochs, block):\n",
    "        \n",
    "    \n",
    "    # Text for the legend once plotted\n",
    "    legend_text = ['Rect', 'HP, Rect, & LP']\n",
    "    \n",
    "    \n",
    "    # Time(s) to add on at the beginning and end of a block\n",
    "    extra_time = 5\n",
    "    tmin = epochs[block][0]/filtered_data['emg'].info['sfreq'] - extra_time\n",
    "    tmax = epochs[block][1]/filtered_data['emg'].info['sfreq'] + extra_time  \n",
    "    trecorded = filtered_data['emg'].times.max()\n",
    "    \n",
    "    # Prevents adding extra time beyond time recorded\n",
    "    if tmax > trecorded:\n",
    "        tmax = trecorded\n",
    "    \n",
    "    # Take EMG processed and rectified data, crop 5 seconds before and after, and index T7-PO7 channels\n",
    "    # Index T7-PO7 channel and crop 5 seconds before and after block\n",
    "    T7PO7_data, T7PO7_times = filtered_data['emg_hp_rectified'].copy().crop(tmin=tmin,tmax=tmax)['T7-PO7']\n",
    "    T7PO7_filt_data, times = filtered_data['emg'].copy().crop(tmin=tmin,tmax=tmax)['T7-PO7']\n",
    "\n",
    "    \n",
    "    # Take EMG processed and rectified data, crop 5 seconds before and after, and index T8-PO8 channels\n",
    "    T8PO8_data, T8PO8_times = filtered_data['emg_hp_rectified'].copy().crop(tmin=tmin,tmax=tmax)['T8-PO8']\n",
    "    T8PO8_filt_data, times = filtered_data['emg'].copy().crop(tmin=tmin,tmax=tmax)['T8-PO8']\n",
    "    \n",
    "    \n",
    "    # Create plot for T7-T8 Channels and PO7-PO8 Channels\n",
    "    envelope_fig, (a1, a2) = plt.subplots(2,1)\n",
    "    envelope_fig.suptitle('Linear Envelope: Block %i' % (block+1))\n",
    "    a1.plot(T7PO7_times, T7PO7_data.T, 'b', T7PO7_times, T7PO7_filt_data.T, 'r')\n",
    "    a1.set_title('T7-PO7')\n",
    "    a1.legend(legend_text, loc='upper right')\n",
    "    \n",
    "    \n",
    "    a2.plot(T8PO8_times, T8PO8_data.T, 'b', T8PO8_times, T8PO8_filt_data.T, 'r')\n",
    "    a2.legend(legend_text, loc='upper right')\n",
    "    a2.set_title('T8-PO8')\n",
    "    plt.xlabel('Time (s)',fontsize='large')\n",
    "#     fig.show()\n",
    "    \n",
    "    return envelope_fig;\n",
    "    \n",
    "if test_fxn == True:\n",
    "# for block in range(0,5):\n",
    "#     plot_linear_envelope(filtered_blocks, block)\n",
    "    block = 0\n",
    "    plot_linear_envelope(filtered_data, epochs, block)\n"
   ]
  },
  {
   "cell_type": "code",
   "execution_count": 10,
   "metadata": {},
   "outputs": [],
   "source": [
    "def generate_block_figs(filtered_blocks, filtered_data, n_epochs, duration, scalings, epochs, block):\n",
    "\n",
    "#     plt.ioff() # turns off plots\n",
    "    block_figs = { 'eeg':None, 'emg':None }\n",
    "    \n",
    "    # define figures for report\n",
    "    for key in ['eeg', 'emg']:\n",
    "        \n",
    "        \n",
    "        plot_blocks = filtered_blocks[key]['blocks'][block].plot(events=filtered_blocks[key]['events'][block],\\\n",
    "                                                          duration=duration,show=False,scalings=scalings[key]);\n",
    "        butterfly = filtered_blocks[key]['epochs'][block].average().plot(show=False,scalings=scalings[key],spatial_colors=True);        \n",
    "        \n",
    "        # Select channels if you're iterating through EEG or EMG data\n",
    "        if key == 'eeg':\n",
    "            picks = ['Fp1', 'Fp2', 'F3', 'Fz', 'F4', 'C3', 'Cz', 'C4', 'P3', 'Pz', 'P4', 'Oz']\n",
    "            \n",
    "            topomap = filtered_blocks[key]['epochs'][block].copy().pick(picks).average().plot_topomap(show=False,\\\n",
    "                                                                                                  scalings=scalings[key]);\n",
    "            topojoint = filtered_blocks[key]['epochs'][block].copy().pick(picks).average().plot_joint(show=False);\n",
    "       \n",
    "        else:\n",
    "            picks = ['T7', 'T8', 'PO7', 'PO8']\n",
    "            linear_envelope = plot_linear_envelope(filtered_data, epochs, block)\n",
    "\n",
    "        if key == 'emg':\n",
    "            block_figs.update( { key: [ plot_blocks, butterfly, linear_envelope ] } )\n",
    "\n",
    "        else:\n",
    "            block_figs.update( { key: [ plot_blocks, butterfly, topomap, topojoint ] } )\n",
    "                \n",
    "    return block_figs;\n",
    "\n",
    "\n",
    "if test_fxn==True: # test function\n",
    "    n_epochs = 3 # Use for viewing subset of epochs.\n",
    "    duration = n_epochs*2 # Use for viewing subset of epochs. Otherwise set to 40\n",
    "    scalings = { 'eeg':1/25000, 'emg':1/5000 } # Setting it to a constant to compare artifact in epoching\n",
    "    block = 1\n",
    "    block_figs = generate_block_figs(filtered_blocks, filtered_data, n_epochs, duration, scalings, epochs, block);\n"
   ]
  },
  {
   "cell_type": "markdown",
   "metadata": {},
   "source": [
    "# Report"
   ]
  },
  {
   "cell_type": "code",
   "execution_count": 11,
   "metadata": {},
   "outputs": [],
   "source": [
    "## define report\n",
    "\n",
    "def reporting(epochs, subject_ID, filtered_blocks,\\\n",
    "              working_data, filtered_data, events, event_id, report_directory):\n",
    "    \n",
    "    # Define EEG and EMG explicitly.  Can use this solution until mne patches pick_types(emg=True)\n",
    "    eeg_chans = ['Fp1', 'Fp2', 'F3', 'Fz', 'F4', 'C3', 'Cz', 'C4', 'P3', 'Pz', 'P4', 'Oz']\n",
    "    emg_chans = ['T7', 'T8', 'PO7', 'PO8']\n",
    "    \n",
    "#     plt.ioff() # turns off plots\n",
    "            \n",
    "    rep = Report() # call Report object\n",
    "        \n",
    "    # Plot continuous data plot\n",
    "    eeg_chs_raw = working_data.copy().pick_channels(eeg_chans).plot_psd(average=False,xscale='linear', show=False);\n",
    "    eeg_chs_filtered = filtered_data['eeg'].plot_psd(average=False,xscale='linear', show=False);\n",
    "    emg_chs_raw = working_data.copy().pick_channels(emg_chans).plot_psd(average=False,xscale='linear', show=False);\n",
    "    emg_chs_filtered = filtered_data['emg'].plot_psd(average=False,xscale='linear', show=False);\n",
    "    show_events = mne.viz.plot_events(events, sfreq=working_data.info['sfreq'], event_id=event_id, show=False);\n",
    "        \n",
    "    partic_figs=[eeg_chs_raw, eeg_chs_filtered, emg_chs_raw, emg_chs_filtered, show_events]\n",
    "    captions = [\"raw EEG psd\",\"filtered EEG psd\",\"raw EMG psd\",\"filtered EMG psd\",\"events\"]\n",
    "    \n",
    "    # Put title in figure for continuous data plot\n",
    "    for e, c in zip(partic_figs,captions):\n",
    "        ax = e.get_axes()\n",
    "        ax[0].set_title(c)\n",
    "        \n",
    "        if captions == 'events': # Place legend in upper right corner for events plot\n",
    "            ax[0].legend(loc='upper right')\n",
    "            \n",
    "    # Add caption to report page\n",
    "    rep.add_figs_to_section(partic_figs, captions=[\"raw EEG psd\",\"filtered EEG psd\",\\\n",
    "                                                   \"raw EMG psd\",\"filtered EMG psd\",\"events\"],\\\n",
    "                            section=\"Subject \"+subject_ID)    \n",
    "    \n",
    "    for block in range(0,len(epochs)): # loop through blocks\n",
    "        \n",
    "        ## make figures\n",
    "        block_figs = generate_block_figs(filtered_blocks, filtered_data, n_epochs, duration, scalings, epochs, block);\n",
    "\n",
    "        ## Iterate through EEG and EMG\n",
    "        for key in block_figs.keys():\n",
    "            \n",
    "            ## define figure captions\n",
    "            if key == 'eeg':\n",
    "                captions = ['Block %d Data %s' % (block+1, key.upper()), \\\n",
    "                    'Block %d Butterfly %s' % (block+1, key.upper()), \\\n",
    "                    'Block %d Topomap %s' % (block+1, key.upper()), \\\n",
    "                    'Block %d TopoJoint %s' % (block+1, key.upper())]\n",
    "                \n",
    "            elif key == 'emg':\n",
    "                captions = ['Block %d Data %s' % (block+1, key.upper()), \\\n",
    "                    'Block %d Butterfly %s' % (block+1, key.upper()), \\\n",
    "                    'Block %d Linear Envelope %s' % (block+1, key.upper())]    \n",
    "\n",
    "            ## add list of figures to report\n",
    "            rep.add_figs_to_section( figs=block_figs[key], captions=captions, section='Subject '+subject_ID+' Block %d' % (block+1))\n",
    "            \n",
    "    ## set report filename\n",
    "#     filename = os.getcwd()+os.path.sep+subject_ID+'_'+session+'_report.html' # Save to current directory for testing\n",
    "    filename = report_directory+subject_ID+'_'+session+'_report.html'\n",
    "\n",
    "    ## save report\n",
    "    rep.save(filename, overwrite=True, open_browser=False)\n",
    "    \n",
    "    return;\n",
    "\n",
    "if test_report==True: # test function\n",
    "    participant_ID='03'\n",
    "\n",
    "    reporting(epochs, participant_ID, filtered_blocks, working_data,\\\n",
    "              filtered_data, events, event_id, report_directory)\n",
    "    \n"
   ]
  },
  {
   "cell_type": "markdown",
   "metadata": {},
   "source": [
    "# Loop through multiple subjects"
   ]
  },
  {
   "cell_type": "code",
   "execution_count": 12,
   "metadata": {},
   "outputs": [],
   "source": [
    "## code to loop through subjects and generate reports\n",
    "\n",
    "def run_reports( subject_list, filter_params, n_epochs, duration, scalings ):\n",
    "    \n",
    "#     plt.ioff() # turns off plots\n",
    "\n",
    "    data_directory, output_directory, report_directory, data_filenames = \\\n",
    "    set_directories_vitality (user_path, year, session, False)\n",
    "    \n",
    "    participant_info = get_data_info( data_filenames, data_directory, output_directory, False )\n",
    "    \n",
    "    for e in subject_list: # loop through subjects, set input path\n",
    "        \n",
    "        subject_ID=e\n",
    "        \n",
    "        if e in participant_info.keys(): # Check participant is in participant info for cohort\n",
    "            \n",
    "            print( 'Starting Participant %s' % subject_ID)        \n",
    "\n",
    "            raw_data, working_data, filtered_data = filter_mydata( participant_info[e][0] , filter_params )\n",
    "\n",
    "            epochs, events, event_id = epoch_data( filtered_data['eeg'], False)\n",
    "\n",
    "            filtered_blocks = crop_data(filtered_data , epochs, False)\n",
    "\n",
    "            reporting(epochs, subject_ID, filtered_blocks,\\\n",
    "                     working_data, filtered_data, events, event_id, report_directory);\n",
    "            "
   ]
  },
  {
   "cell_type": "markdown",
   "metadata": {},
   "source": [
    "# Workflow for looping through subjects"
   ]
  },
  {
   "cell_type": "code",
   "execution_count": 13,
   "metadata": {
    "collapsed": true
   },
   "outputs": [
    {
     "name": "stdout",
     "output_type": "stream",
     "text": [
      "['01', '02', '03', '04', '05', '06', '08', '09', '10', '11', '12', '13', '14', '15', '16', '17', '18', '20', '21', '22', '23', '24', '25', '26', '27', '28', '29', '31', '32', '33', '35', '36', '37', '38', '39', '40', '42', '43', '44', '45']\n",
      "Starting Participant 03\n"
     ]
    },
    {
     "name": "stderr",
     "output_type": "stream",
     "text": [
      "<ipython-input-4-2a31d7468da5>:16: RuntimeWarning: The unit for channel(s) STI 014 has changed from V to NA.\n",
      "  working_data.set_channel_types({'STI 014':'stim'})\n"
     ]
    },
    {
     "name": "stdout",
     "output_type": "stream",
     "text": [
      "Starting Participant 04\n"
     ]
    },
    {
     "name": "stderr",
     "output_type": "stream",
     "text": [
      "<ipython-input-4-2a31d7468da5>:16: RuntimeWarning: The unit for channel(s) STI 014 has changed from V to NA.\n",
      "  working_data.set_channel_types({'STI 014':'stim'})\n"
     ]
    },
    {
     "name": "stdout",
     "output_type": "stream",
     "text": [
      "Starting Participant 05\n"
     ]
    },
    {
     "name": "stderr",
     "output_type": "stream",
     "text": [
      "<ipython-input-4-2a31d7468da5>:16: RuntimeWarning: The unit for channel(s) STI 014 has changed from V to NA.\n",
      "  working_data.set_channel_types({'STI 014':'stim'})\n"
     ]
    },
    {
     "name": "stdout",
     "output_type": "stream",
     "text": [
      "Starting Participant 06\n"
     ]
    },
    {
     "name": "stderr",
     "output_type": "stream",
     "text": [
      "<ipython-input-4-2a31d7468da5>:16: RuntimeWarning: The unit for channel(s) STI 014 has changed from V to NA.\n",
      "  working_data.set_channel_types({'STI 014':'stim'})\n"
     ]
    },
    {
     "name": "stdout",
     "output_type": "stream",
     "text": [
      "Starting Participant 08\n"
     ]
    },
    {
     "name": "stderr",
     "output_type": "stream",
     "text": [
      "<ipython-input-4-2a31d7468da5>:16: RuntimeWarning: The unit for channel(s) STI 014 has changed from V to NA.\n",
      "  working_data.set_channel_types({'STI 014':'stim'})\n"
     ]
    },
    {
     "name": "stdout",
     "output_type": "stream",
     "text": [
      "Starting Participant 12\n"
     ]
    },
    {
     "name": "stderr",
     "output_type": "stream",
     "text": [
      "<ipython-input-4-2a31d7468da5>:16: RuntimeWarning: The unit for channel(s) STI 014 has changed from V to NA.\n",
      "  working_data.set_channel_types({'STI 014':'stim'})\n"
     ]
    },
    {
     "name": "stdout",
     "output_type": "stream",
     "text": [
      "Starting Participant 13\n"
     ]
    },
    {
     "name": "stderr",
     "output_type": "stream",
     "text": [
      "<ipython-input-4-2a31d7468da5>:16: RuntimeWarning: The unit for channel(s) STI 014 has changed from V to NA.\n",
      "  working_data.set_channel_types({'STI 014':'stim'})\n"
     ]
    },
    {
     "name": "stdout",
     "output_type": "stream",
     "text": [
      "Starting Participant 14\n"
     ]
    },
    {
     "name": "stderr",
     "output_type": "stream",
     "text": [
      "<ipython-input-4-2a31d7468da5>:16: RuntimeWarning: The unit for channel(s) STI 014 has changed from V to NA.\n",
      "  working_data.set_channel_types({'STI 014':'stim'})\n"
     ]
    },
    {
     "name": "stdout",
     "output_type": "stream",
     "text": [
      "Starting Participant 15\n"
     ]
    },
    {
     "name": "stderr",
     "output_type": "stream",
     "text": [
      "<ipython-input-4-2a31d7468da5>:16: RuntimeWarning: The unit for channel(s) STI 014 has changed from V to NA.\n",
      "  working_data.set_channel_types({'STI 014':'stim'})\n"
     ]
    },
    {
     "name": "stdout",
     "output_type": "stream",
     "text": [
      "Starting Participant 17\n"
     ]
    },
    {
     "name": "stderr",
     "output_type": "stream",
     "text": [
      "<ipython-input-4-2a31d7468da5>:16: RuntimeWarning: The unit for channel(s) STI 014 has changed from V to NA.\n",
      "  working_data.set_channel_types({'STI 014':'stim'})\n"
     ]
    },
    {
     "name": "stdout",
     "output_type": "stream",
     "text": [
      "Starting Participant 18\n"
     ]
    },
    {
     "name": "stderr",
     "output_type": "stream",
     "text": [
      "<ipython-input-4-2a31d7468da5>:16: RuntimeWarning: The unit for channel(s) STI 014 has changed from V to NA.\n",
      "  working_data.set_channel_types({'STI 014':'stim'})\n"
     ]
    },
    {
     "name": "stdout",
     "output_type": "stream",
     "text": [
      "Starting Participant 20\n"
     ]
    },
    {
     "name": "stderr",
     "output_type": "stream",
     "text": [
      "<ipython-input-4-2a31d7468da5>:16: RuntimeWarning: The unit for channel(s) STI 014 has changed from V to NA.\n",
      "  working_data.set_channel_types({'STI 014':'stim'})\n"
     ]
    },
    {
     "name": "stdout",
     "output_type": "stream",
     "text": [
      "Starting Participant 21\n"
     ]
    },
    {
     "name": "stderr",
     "output_type": "stream",
     "text": [
      "<ipython-input-4-2a31d7468da5>:16: RuntimeWarning: The unit for channel(s) STI 014 has changed from V to NA.\n",
      "  working_data.set_channel_types({'STI 014':'stim'})\n"
     ]
    },
    {
     "name": "stdout",
     "output_type": "stream",
     "text": [
      "Starting Participant 23\n"
     ]
    },
    {
     "name": "stderr",
     "output_type": "stream",
     "text": [
      "<ipython-input-4-2a31d7468da5>:16: RuntimeWarning: The unit for channel(s) STI 014 has changed from V to NA.\n",
      "  working_data.set_channel_types({'STI 014':'stim'})\n"
     ]
    },
    {
     "name": "stdout",
     "output_type": "stream",
     "text": [
      "Starting Participant 25\n"
     ]
    },
    {
     "name": "stderr",
     "output_type": "stream",
     "text": [
      "<ipython-input-4-2a31d7468da5>:16: RuntimeWarning: The unit for channel(s) STI 014 has changed from V to NA.\n",
      "  working_data.set_channel_types({'STI 014':'stim'})\n"
     ]
    },
    {
     "name": "stdout",
     "output_type": "stream",
     "text": [
      "Starting Participant 28\n"
     ]
    },
    {
     "name": "stderr",
     "output_type": "stream",
     "text": [
      "<ipython-input-4-2a31d7468da5>:16: RuntimeWarning: The unit for channel(s) STI 014 has changed from V to NA.\n",
      "  working_data.set_channel_types({'STI 014':'stim'})\n"
     ]
    },
    {
     "name": "stdout",
     "output_type": "stream",
     "text": [
      "Starting Participant 29\n"
     ]
    },
    {
     "name": "stderr",
     "output_type": "stream",
     "text": [
      "<ipython-input-4-2a31d7468da5>:16: RuntimeWarning: The unit for channel(s) STI 014 has changed from V to NA.\n",
      "  working_data.set_channel_types({'STI 014':'stim'})\n"
     ]
    },
    {
     "name": "stdout",
     "output_type": "stream",
     "text": [
      "Starting Participant 32\n"
     ]
    },
    {
     "name": "stderr",
     "output_type": "stream",
     "text": [
      "<ipython-input-4-2a31d7468da5>:16: RuntimeWarning: The unit for channel(s) STI 014 has changed from V to NA.\n",
      "  working_data.set_channel_types({'STI 014':'stim'})\n"
     ]
    },
    {
     "name": "stdout",
     "output_type": "stream",
     "text": [
      "Starting Participant 35\n"
     ]
    },
    {
     "name": "stderr",
     "output_type": "stream",
     "text": [
      "<ipython-input-4-2a31d7468da5>:16: RuntimeWarning: The unit for channel(s) STI 014 has changed from V to NA.\n",
      "  working_data.set_channel_types({'STI 014':'stim'})\n"
     ]
    },
    {
     "name": "stdout",
     "output_type": "stream",
     "text": [
      "Starting Participant 36\n"
     ]
    },
    {
     "name": "stderr",
     "output_type": "stream",
     "text": [
      "<ipython-input-4-2a31d7468da5>:16: RuntimeWarning: The unit for channel(s) STI 014 has changed from V to NA.\n",
      "  working_data.set_channel_types({'STI 014':'stim'})\n"
     ]
    },
    {
     "name": "stdout",
     "output_type": "stream",
     "text": [
      "Starting Participant 37\n"
     ]
    },
    {
     "name": "stderr",
     "output_type": "stream",
     "text": [
      "<ipython-input-4-2a31d7468da5>:16: RuntimeWarning: The unit for channel(s) STI 014 has changed from V to NA.\n",
      "  working_data.set_channel_types({'STI 014':'stim'})\n"
     ]
    },
    {
     "name": "stdout",
     "output_type": "stream",
     "text": [
      "Starting Participant 39\n"
     ]
    },
    {
     "name": "stderr",
     "output_type": "stream",
     "text": [
      "<ipython-input-4-2a31d7468da5>:16: RuntimeWarning: The unit for channel(s) STI 014 has changed from V to NA.\n",
      "  working_data.set_channel_types({'STI 014':'stim'})\n"
     ]
    },
    {
     "name": "stdout",
     "output_type": "stream",
     "text": [
      "Starting Participant 40\n"
     ]
    },
    {
     "name": "stderr",
     "output_type": "stream",
     "text": [
      "<ipython-input-4-2a31d7468da5>:16: RuntimeWarning: The unit for channel(s) STI 014 has changed from V to NA.\n",
      "  working_data.set_channel_types({'STI 014':'stim'})\n"
     ]
    },
    {
     "name": "stdout",
     "output_type": "stream",
     "text": [
      "Starting Participant 43\n"
     ]
    },
    {
     "name": "stderr",
     "output_type": "stream",
     "text": [
      "<ipython-input-4-2a31d7468da5>:16: RuntimeWarning: The unit for channel(s) STI 014 has changed from V to NA.\n",
      "  working_data.set_channel_types({'STI 014':'stim'})\n"
     ]
    },
    {
     "name": "stdout",
     "output_type": "stream",
     "text": [
      "Starting Participant 44\n"
     ]
    },
    {
     "name": "stderr",
     "output_type": "stream",
     "text": [
      "<ipython-input-4-2a31d7468da5>:16: RuntimeWarning: The unit for channel(s) STI 014 has changed from V to NA.\n",
      "  working_data.set_channel_types({'STI 014':'stim'})\n"
     ]
    }
   ],
   "source": [
    "## set analysis properties\n",
    "plt.ioff()\n",
    "highpass_eeg = 0.01 \n",
    "lowpass_eeg = 50.\n",
    "highpass_emg = None \n",
    "lowpass_emg = 100.\n",
    "filter_params = {'eeg': {'highpass':highpass_eeg, 'lowpass':lowpass_eeg}, \\\n",
    "                 'emg': {'highpass':highpass_emg, 'lowpass':lowpass_emg}\n",
    "                }\n",
    "mne.set_log_level(verbose=False) # Quiets the outputs from functions\n",
    "\n",
    "## set report properties\n",
    "n_epochs = 20\n",
    "duration = n_epochs*2\n",
    "scalings = { 'eeg':1/25000, 'emg':1/5000 } # Set to a constant to compare artifact in epoching\n",
    "\n",
    "## set group\n",
    "year='2016'\n",
    "session='post'\n",
    "\n",
    "## Participants by year\n",
    "if year is '2016':\n",
    "    subject_list=['01', '02', '03', '04', '05', '06', '08', '09', '10',\n",
    "                 '11', '12', '13', '14', '15', '16', '17', '18', '20',\n",
    "                 '21', '22', '23', '24', '25', '26', '27', '28', '29',\n",
    "                 '30', '31', '32', '33', '35', '36', '37', '38', '39', \n",
    "                 '40', '42', '43', '44', '45']\n",
    "    exclude = ['30']\n",
    "    \n",
    "elif year is '2017':\n",
    "    subject_list=['2037', '2004', '2025', '2012', '2016', '2021', '2029', '2017',\\\n",
    "                  '2020', '2024', '2013', '2028', '2046', '2042', '2032', '2001',\\\n",
    "                  '2036', '2009', '2019', '2026', '2011', '2015', '2022', '2038',\\\n",
    "                  '2003', '2034', '2030', '2007', '2039', '2031', '2002', '2045',\\\n",
    "                  '2041', '2018', '2014', '2023', '2010']\n",
    "    exclude = []\n",
    "\n",
    "## Exclude problematic participants\n",
    "for item in exclude:\n",
    "    subject_list.remove(item)\n",
    "print(subject_list)\n",
    "subject_list = sorted(subject_list)\n",
    "\n",
    "## run workflow on subject_list\n",
    "run_reports( subject_list, filter_params, n_epochs, duration, scalings );\n",
    "\n"
   ]
  },
  {
   "cell_type": "code",
   "execution_count": 16,
   "metadata": {
    "collapsed": true
   },
   "outputs": [
    {
     "name": "stdout",
     "output_type": "stream",
     "text": [
      "['01', '02', '03', '04', '05', '06', '08', '09', '10', '11', '12', '13', '14', '15', '16', '17', '18', '20', '21', '22', '23', '24', '25', '26', '27', '28', '29', '31', '32', '33', '35', '37', '38', '39', '40', '42', '43', '44', '45']\n",
      "Starting Participant 01\n"
     ]
    },
    {
     "name": "stderr",
     "output_type": "stream",
     "text": [
      "<ipython-input-4-2a31d7468da5>:16: RuntimeWarning: The unit for channel(s) STI 014 has changed from V to NA.\n",
      "  working_data.set_channel_types({'STI 014':'stim'})\n"
     ]
    },
    {
     "name": "stdout",
     "output_type": "stream",
     "text": [
      "Starting Participant 02\n"
     ]
    },
    {
     "name": "stderr",
     "output_type": "stream",
     "text": [
      "<ipython-input-4-2a31d7468da5>:16: RuntimeWarning: The unit for channel(s) STI 014 has changed from V to NA.\n",
      "  working_data.set_channel_types({'STI 014':'stim'})\n"
     ]
    },
    {
     "name": "stdout",
     "output_type": "stream",
     "text": [
      "Starting Participant 03\n"
     ]
    },
    {
     "name": "stderr",
     "output_type": "stream",
     "text": [
      "<ipython-input-4-2a31d7468da5>:16: RuntimeWarning: The unit for channel(s) STI 014 has changed from V to NA.\n",
      "  working_data.set_channel_types({'STI 014':'stim'})\n"
     ]
    },
    {
     "name": "stdout",
     "output_type": "stream",
     "text": [
      "Starting Participant 04\n"
     ]
    },
    {
     "name": "stderr",
     "output_type": "stream",
     "text": [
      "<ipython-input-4-2a31d7468da5>:16: RuntimeWarning: The unit for channel(s) STI 014 has changed from V to NA.\n",
      "  working_data.set_channel_types({'STI 014':'stim'})\n"
     ]
    },
    {
     "name": "stdout",
     "output_type": "stream",
     "text": [
      "Starting Participant 05\n"
     ]
    },
    {
     "name": "stderr",
     "output_type": "stream",
     "text": [
      "<ipython-input-4-2a31d7468da5>:16: RuntimeWarning: The unit for channel(s) STI 014 has changed from V to NA.\n",
      "  working_data.set_channel_types({'STI 014':'stim'})\n"
     ]
    },
    {
     "name": "stdout",
     "output_type": "stream",
     "text": [
      "Starting Participant 06\n"
     ]
    },
    {
     "name": "stderr",
     "output_type": "stream",
     "text": [
      "<ipython-input-4-2a31d7468da5>:16: RuntimeWarning: The unit for channel(s) STI 014 has changed from V to NA.\n",
      "  working_data.set_channel_types({'STI 014':'stim'})\n"
     ]
    },
    {
     "name": "stdout",
     "output_type": "stream",
     "text": [
      "Starting Participant 08\n"
     ]
    },
    {
     "name": "stderr",
     "output_type": "stream",
     "text": [
      "<ipython-input-4-2a31d7468da5>:16: RuntimeWarning: The unit for channel(s) STI 014 has changed from V to NA.\n",
      "  working_data.set_channel_types({'STI 014':'stim'})\n"
     ]
    },
    {
     "name": "stdout",
     "output_type": "stream",
     "text": [
      "Starting Participant 09\n"
     ]
    },
    {
     "name": "stderr",
     "output_type": "stream",
     "text": [
      "<ipython-input-4-2a31d7468da5>:16: RuntimeWarning: The unit for channel(s) STI 014 has changed from V to NA.\n",
      "  working_data.set_channel_types({'STI 014':'stim'})\n"
     ]
    },
    {
     "name": "stdout",
     "output_type": "stream",
     "text": [
      "Starting Participant 10\n"
     ]
    },
    {
     "name": "stderr",
     "output_type": "stream",
     "text": [
      "<ipython-input-4-2a31d7468da5>:16: RuntimeWarning: The unit for channel(s) STI 014 has changed from V to NA.\n",
      "  working_data.set_channel_types({'STI 014':'stim'})\n"
     ]
    },
    {
     "name": "stdout",
     "output_type": "stream",
     "text": [
      "Starting Participant 11\n"
     ]
    },
    {
     "name": "stderr",
     "output_type": "stream",
     "text": [
      "<ipython-input-4-2a31d7468da5>:16: RuntimeWarning: The unit for channel(s) STI 014 has changed from V to NA.\n",
      "  working_data.set_channel_types({'STI 014':'stim'})\n"
     ]
    },
    {
     "name": "stdout",
     "output_type": "stream",
     "text": [
      "Starting Participant 12\n"
     ]
    },
    {
     "name": "stderr",
     "output_type": "stream",
     "text": [
      "<ipython-input-4-2a31d7468da5>:16: RuntimeWarning: The unit for channel(s) STI 014 has changed from V to NA.\n",
      "  working_data.set_channel_types({'STI 014':'stim'})\n"
     ]
    },
    {
     "name": "stdout",
     "output_type": "stream",
     "text": [
      "Starting Participant 13\n"
     ]
    },
    {
     "name": "stderr",
     "output_type": "stream",
     "text": [
      "<ipython-input-4-2a31d7468da5>:16: RuntimeWarning: The unit for channel(s) STI 014 has changed from V to NA.\n",
      "  working_data.set_channel_types({'STI 014':'stim'})\n"
     ]
    },
    {
     "name": "stdout",
     "output_type": "stream",
     "text": [
      "Starting Participant 14\n"
     ]
    },
    {
     "name": "stderr",
     "output_type": "stream",
     "text": [
      "<ipython-input-4-2a31d7468da5>:16: RuntimeWarning: The unit for channel(s) STI 014 has changed from V to NA.\n",
      "  working_data.set_channel_types({'STI 014':'stim'})\n"
     ]
    },
    {
     "name": "stdout",
     "output_type": "stream",
     "text": [
      "Starting Participant 15\n"
     ]
    },
    {
     "name": "stderr",
     "output_type": "stream",
     "text": [
      "<ipython-input-4-2a31d7468da5>:16: RuntimeWarning: The unit for channel(s) STI 014 has changed from V to NA.\n",
      "  working_data.set_channel_types({'STI 014':'stim'})\n"
     ]
    },
    {
     "name": "stdout",
     "output_type": "stream",
     "text": [
      "Starting Participant 16\n"
     ]
    },
    {
     "name": "stderr",
     "output_type": "stream",
     "text": [
      "<ipython-input-4-2a31d7468da5>:16: RuntimeWarning: The unit for channel(s) STI 014 has changed from V to NA.\n",
      "  working_data.set_channel_types({'STI 014':'stim'})\n"
     ]
    },
    {
     "name": "stdout",
     "output_type": "stream",
     "text": [
      "Starting Participant 17\n"
     ]
    },
    {
     "name": "stderr",
     "output_type": "stream",
     "text": [
      "<ipython-input-4-2a31d7468da5>:16: RuntimeWarning: The unit for channel(s) STI 014 has changed from V to NA.\n",
      "  working_data.set_channel_types({'STI 014':'stim'})\n"
     ]
    },
    {
     "name": "stdout",
     "output_type": "stream",
     "text": [
      "Starting Participant 18\n"
     ]
    },
    {
     "name": "stderr",
     "output_type": "stream",
     "text": [
      "<ipython-input-4-2a31d7468da5>:16: RuntimeWarning: The unit for channel(s) STI 014 has changed from V to NA.\n",
      "  working_data.set_channel_types({'STI 014':'stim'})\n"
     ]
    },
    {
     "name": "stdout",
     "output_type": "stream",
     "text": [
      "Starting Participant 20\n"
     ]
    },
    {
     "name": "stderr",
     "output_type": "stream",
     "text": [
      "<ipython-input-4-2a31d7468da5>:16: RuntimeWarning: The unit for channel(s) STI 014 has changed from V to NA.\n",
      "  working_data.set_channel_types({'STI 014':'stim'})\n"
     ]
    },
    {
     "name": "stdout",
     "output_type": "stream",
     "text": [
      "Starting Participant 21\n"
     ]
    },
    {
     "name": "stderr",
     "output_type": "stream",
     "text": [
      "<ipython-input-4-2a31d7468da5>:16: RuntimeWarning: The unit for channel(s) STI 014 has changed from V to NA.\n",
      "  working_data.set_channel_types({'STI 014':'stim'})\n"
     ]
    },
    {
     "name": "stdout",
     "output_type": "stream",
     "text": [
      "Starting Participant 22\n"
     ]
    },
    {
     "name": "stderr",
     "output_type": "stream",
     "text": [
      "<ipython-input-4-2a31d7468da5>:16: RuntimeWarning: The unit for channel(s) STI 014 has changed from V to NA.\n",
      "  working_data.set_channel_types({'STI 014':'stim'})\n"
     ]
    },
    {
     "name": "stdout",
     "output_type": "stream",
     "text": [
      "Starting Participant 23\n"
     ]
    },
    {
     "name": "stderr",
     "output_type": "stream",
     "text": [
      "<ipython-input-4-2a31d7468da5>:16: RuntimeWarning: The unit for channel(s) STI 014 has changed from V to NA.\n",
      "  working_data.set_channel_types({'STI 014':'stim'})\n"
     ]
    },
    {
     "name": "stdout",
     "output_type": "stream",
     "text": [
      "Starting Participant 24\n"
     ]
    },
    {
     "name": "stderr",
     "output_type": "stream",
     "text": [
      "<ipython-input-4-2a31d7468da5>:16: RuntimeWarning: The unit for channel(s) STI 014 has changed from V to NA.\n",
      "  working_data.set_channel_types({'STI 014':'stim'})\n"
     ]
    },
    {
     "name": "stdout",
     "output_type": "stream",
     "text": [
      "Starting Participant 25\n"
     ]
    },
    {
     "name": "stderr",
     "output_type": "stream",
     "text": [
      "<ipython-input-4-2a31d7468da5>:16: RuntimeWarning: The unit for channel(s) STI 014 has changed from V to NA.\n",
      "  working_data.set_channel_types({'STI 014':'stim'})\n"
     ]
    },
    {
     "name": "stdout",
     "output_type": "stream",
     "text": [
      "Starting Participant 26\n"
     ]
    },
    {
     "name": "stderr",
     "output_type": "stream",
     "text": [
      "<ipython-input-4-2a31d7468da5>:16: RuntimeWarning: The unit for channel(s) STI 014 has changed from V to NA.\n",
      "  working_data.set_channel_types({'STI 014':'stim'})\n"
     ]
    },
    {
     "name": "stdout",
     "output_type": "stream",
     "text": [
      "Starting Participant 27\n"
     ]
    },
    {
     "name": "stderr",
     "output_type": "stream",
     "text": [
      "<ipython-input-4-2a31d7468da5>:16: RuntimeWarning: The unit for channel(s) STI 014 has changed from V to NA.\n",
      "  working_data.set_channel_types({'STI 014':'stim'})\n"
     ]
    },
    {
     "name": "stdout",
     "output_type": "stream",
     "text": [
      "Starting Participant 28\n"
     ]
    },
    {
     "name": "stderr",
     "output_type": "stream",
     "text": [
      "<ipython-input-4-2a31d7468da5>:16: RuntimeWarning: The unit for channel(s) STI 014 has changed from V to NA.\n",
      "  working_data.set_channel_types({'STI 014':'stim'})\n"
     ]
    },
    {
     "name": "stdout",
     "output_type": "stream",
     "text": [
      "Starting Participant 29\n"
     ]
    },
    {
     "name": "stderr",
     "output_type": "stream",
     "text": [
      "<ipython-input-4-2a31d7468da5>:16: RuntimeWarning: The unit for channel(s) STI 014 has changed from V to NA.\n",
      "  working_data.set_channel_types({'STI 014':'stim'})\n"
     ]
    },
    {
     "name": "stdout",
     "output_type": "stream",
     "text": [
      "Starting Participant 31\n"
     ]
    },
    {
     "name": "stderr",
     "output_type": "stream",
     "text": [
      "<ipython-input-4-2a31d7468da5>:16: RuntimeWarning: The unit for channel(s) STI 014 has changed from V to NA.\n",
      "  working_data.set_channel_types({'STI 014':'stim'})\n"
     ]
    },
    {
     "name": "stdout",
     "output_type": "stream",
     "text": [
      "Starting Participant 32\n"
     ]
    },
    {
     "name": "stderr",
     "output_type": "stream",
     "text": [
      "<ipython-input-4-2a31d7468da5>:16: RuntimeWarning: The unit for channel(s) STI 014 has changed from V to NA.\n",
      "  working_data.set_channel_types({'STI 014':'stim'})\n"
     ]
    },
    {
     "name": "stdout",
     "output_type": "stream",
     "text": [
      "Starting Participant 33\n"
     ]
    },
    {
     "name": "stderr",
     "output_type": "stream",
     "text": [
      "<ipython-input-4-2a31d7468da5>:16: RuntimeWarning: The unit for channel(s) STI 014 has changed from V to NA.\n",
      "  working_data.set_channel_types({'STI 014':'stim'})\n"
     ]
    },
    {
     "name": "stdout",
     "output_type": "stream",
     "text": [
      "Starting Participant 35\n"
     ]
    },
    {
     "name": "stderr",
     "output_type": "stream",
     "text": [
      "<ipython-input-4-2a31d7468da5>:16: RuntimeWarning: The unit for channel(s) STI 014 has changed from V to NA.\n",
      "  working_data.set_channel_types({'STI 014':'stim'})\n"
     ]
    },
    {
     "name": "stdout",
     "output_type": "stream",
     "text": [
      "Starting Participant 37\n"
     ]
    },
    {
     "name": "stderr",
     "output_type": "stream",
     "text": [
      "<ipython-input-4-2a31d7468da5>:16: RuntimeWarning: The unit for channel(s) STI 014 has changed from V to NA.\n",
      "  working_data.set_channel_types({'STI 014':'stim'})\n"
     ]
    },
    {
     "name": "stdout",
     "output_type": "stream",
     "text": [
      "Starting Participant 38\n"
     ]
    },
    {
     "name": "stderr",
     "output_type": "stream",
     "text": [
      "<ipython-input-4-2a31d7468da5>:16: RuntimeWarning: The unit for channel(s) STI 014 has changed from V to NA.\n",
      "  working_data.set_channel_types({'STI 014':'stim'})\n"
     ]
    },
    {
     "name": "stdout",
     "output_type": "stream",
     "text": [
      "Starting Participant 39\n"
     ]
    },
    {
     "name": "stderr",
     "output_type": "stream",
     "text": [
      "<ipython-input-4-2a31d7468da5>:16: RuntimeWarning: The unit for channel(s) STI 014 has changed from V to NA.\n",
      "  working_data.set_channel_types({'STI 014':'stim'})\n"
     ]
    },
    {
     "name": "stdout",
     "output_type": "stream",
     "text": [
      "Starting Participant 40\n"
     ]
    },
    {
     "name": "stderr",
     "output_type": "stream",
     "text": [
      "<ipython-input-4-2a31d7468da5>:16: RuntimeWarning: The unit for channel(s) STI 014 has changed from V to NA.\n",
      "  working_data.set_channel_types({'STI 014':'stim'})\n"
     ]
    },
    {
     "name": "stdout",
     "output_type": "stream",
     "text": [
      "Starting Participant 42\n"
     ]
    },
    {
     "name": "stderr",
     "output_type": "stream",
     "text": [
      "<ipython-input-4-2a31d7468da5>:16: RuntimeWarning: The unit for channel(s) STI 014 has changed from V to NA.\n",
      "  working_data.set_channel_types({'STI 014':'stim'})\n"
     ]
    },
    {
     "name": "stdout",
     "output_type": "stream",
     "text": [
      "Starting Participant 43\n"
     ]
    },
    {
     "name": "stderr",
     "output_type": "stream",
     "text": [
      "<ipython-input-4-2a31d7468da5>:16: RuntimeWarning: The unit for channel(s) STI 014 has changed from V to NA.\n",
      "  working_data.set_channel_types({'STI 014':'stim'})\n"
     ]
    },
    {
     "name": "stdout",
     "output_type": "stream",
     "text": [
      "Starting Participant 44\n"
     ]
    },
    {
     "name": "stderr",
     "output_type": "stream",
     "text": [
      "<ipython-input-4-2a31d7468da5>:16: RuntimeWarning: The unit for channel(s) STI 014 has changed from V to NA.\n",
      "  working_data.set_channel_types({'STI 014':'stim'})\n"
     ]
    },
    {
     "name": "stdout",
     "output_type": "stream",
     "text": [
      "Starting Participant 45\n"
     ]
    },
    {
     "name": "stderr",
     "output_type": "stream",
     "text": [
      "<ipython-input-4-2a31d7468da5>:16: RuntimeWarning: The unit for channel(s) STI 014 has changed from V to NA.\n",
      "  working_data.set_channel_types({'STI 014':'stim'})\n"
     ]
    }
   ],
   "source": [
    "## set analysis properties\n",
    "highpass_eeg = 0.01 \n",
    "lowpass_eeg = 50.\n",
    "highpass_emg = None \n",
    "lowpass_emg = 100.\n",
    "filter_params = {'eeg': {'highpass':highpass_eeg, 'lowpass':lowpass_eeg}, \\\n",
    "                 'emg': {'highpass':highpass_emg, 'lowpass':lowpass_emg}\n",
    "                }\n",
    "mne.set_log_level(verbose=False) # Quiets the outputs from functions\n",
    "\n",
    "## set report properties\n",
    "n_epochs = 20\n",
    "duration = n_epochs*2\n",
    "scalings = { 'eeg':1/25000, 'emg':1/5000 } # Set to a constant to compare artifact in epoching\n",
    "\n",
    "## set group\n",
    "year='2016'\n",
    "session='pre'\n",
    "\n",
    "## Participants by year\n",
    "if year is '2016':\n",
    "    subject_list=['01', '02', '03', '04', '05', '06', '08', '09', '10',\n",
    "                 '11', '12', '13', '14', '15', '16', '17', '18', '20',\n",
    "                 '21', '22', '23', '24', '25', '26', '27', '28', '29',\n",
    "                 '30', '31', '32', '33', '35', '36', '37', '38', '39', \n",
    "                 '40', '42', '43', '44', '45']\n",
    "    exclude = ['30','36'] # Indexing issue with these participants\n",
    "    \n",
    "elif year is '2017':\n",
    "    subject_list=['2037', '2004', '2025', '2012', '2016', '2021', '2029', '2017',\\\n",
    "                  '2020', '2024', '2013', '2028', '2046', '2042', '2032', '2001',\\\n",
    "                  '2036', '2009', '2019', '2026', '2011', '2015', '2022', '2038',\\\n",
    "                  '2003', '2034', '2030', '2007', '2039', '2031', '2002', '2045',\\\n",
    "                  '2041', '2018', '2014', '2023', '2010']\n",
    "    exclude = []\n",
    "\n",
    "## Exclude problematic participants\n",
    "for item in exclude:\n",
    "    subject_list.remove(item)\n",
    "print(subject_list)\n",
    "subject_list = sorted(subject_list)\n",
    "\n",
    "## run workflow on subject_list\n",
    "run_reports( subject_list, filter_params, n_epochs, duration, scalings );\n",
    "\n"
   ]
  },
  {
   "cell_type": "code",
   "execution_count": null,
   "metadata": {},
   "outputs": [],
   "source": []
  }
 ],
 "metadata": {
  "kernelspec": {
   "display_name": "Python 3",
   "language": "python",
   "name": "python3"
  },
  "language_info": {
   "codemirror_mode": {
    "name": "ipython",
    "version": 3
   },
   "file_extension": ".py",
   "mimetype": "text/x-python",
   "name": "python",
   "nbconvert_exporter": "python",
   "pygments_lexer": "ipython3",
   "version": "3.7.4"
  }
 },
 "nbformat": 4,
 "nbformat_minor": 2
}
