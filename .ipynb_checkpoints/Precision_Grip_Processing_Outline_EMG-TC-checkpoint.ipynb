{
 "cells": [
  {
   "cell_type": "markdown",
   "metadata": {},
   "source": [
    "Check notes\n",
    "* T7 - AbPB Upper (Anode)\n",
    "* PO7 - AbPB Lower (Cathode)\n",
    "* T8 - FDI Upper (Anode)\n",
    "* PO8 - FDI Lower (Cathode)\n",
    "Subtract Uppers (Anode) from Lowers (Cathode)\n",
    "[mne.set_bipolar_reference](https://mne.tools/stable/generated/mne.set_bipolar_reference.html)"
   ]
  },
  {
   "cell_type": "code",
   "execution_count": null,
   "metadata": {},
   "outputs": [],
   "source": []
  }
 ],
 "metadata": {
  "kernelspec": {
   "display_name": "Python 3",
   "language": "python",
   "name": "python3"
  },
  "language_info": {
   "codemirror_mode": {
    "name": "ipython",
    "version": 3
   },
   "file_extension": ".py",
   "mimetype": "text/x-python",
   "name": "python",
   "nbconvert_exporter": "python",
   "pygments_lexer": "ipython3",
   "version": "3.7.4"
  }
 },
 "nbformat": 4,
 "nbformat_minor": 2
}
